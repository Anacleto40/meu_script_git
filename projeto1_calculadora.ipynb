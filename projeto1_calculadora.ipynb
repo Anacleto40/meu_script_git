{
  "nbformat": 4,
  "nbformat_minor": 0,
  "metadata": {
    "colab": {
      "provenance": []
    },
    "kernelspec": {
      "name": "python3",
      "display_name": "Python 3"
    },
    "language_info": {
      "name": "python"
    }
  },
  "cells": [
    {
      "cell_type": "markdown",
      "source": [
        "##Calculadora##"
      ],
      "metadata": {
        "id": "DuF4TBaNCafj"
      }
    },
    {
      "cell_type": "code",
      "source": [
        "nome = str(input('Escreva o seu nome: '))\n",
        "num1 = int(input('Digite o primeiro valor a ser calculado: '))\n",
        "num2 = int(input('Agora digite o segundo valor a ser calculado: '))\n",
        "print('Agora escolha a operação que você deseja fazer ecrevendo a seguir. ')\n",
        "print(' - soma')\n",
        "print(' - subtracao')\n",
        "print(' - multiplicacao')\n",
        "print(' - divisao')\n",
        "print(' ## ESCREVA DE ACORDO COM AS OPÇÕES ACIMA. SEM ACENTOS OU CARACTERES ESPECIAIS ##')\n",
        "\n",
        "operacao = input(\"Qual conta você deseja fazer? \")\n",
        "\n",
        "if operacao == \"soma\":\n",
        "  soma = num1 + num2\n",
        "  print('A soma é: ', soma)\n",
        "if operacao == \"subtracao\":\n",
        "  subtracao = num1 - num2\n",
        "  print('A subtração é: ', subtracao)\n",
        "if operacao == \"multiplicacao\":\n",
        "  multiplicacao = num1 * num2\n",
        "  print('A multiplicação é: ', multiplicacao)\n",
        "if operacao == \"divisao\":\n",
        "  divisao = num1 / num2\n",
        "  print('A divisão é: ', divisao)\n",
        "\n"
      ],
      "metadata": {
        "colab": {
          "base_uri": "https://localhost:8080/"
        },
        "id": "MgKXZ-KNCeET",
        "outputId": "fcb0d2da-3733-4412-91e9-00f9099b5256"
      },
      "execution_count": 13,
      "outputs": [
        {
          "output_type": "stream",
          "name": "stdout",
          "text": [
            "Escreva o seu nome: Rodrigo\n",
            "Digite o primeiro valor a ser calculado: 10\n",
            "Agora digite o segundo valor a ser calculado: 10\n",
            "Agora escolha a operação que você deseja fazer ecrevendo a seguir. \n",
            " - soma\n",
            " - subtracao\n",
            " - multiplicacao\n",
            " - divisao\n",
            " ## ESCREVA DE ACORDO COM AS OPÇÕES ACIMA. SEM ACENTOS OU CARACTERES ESPECIAIS ##\n",
            "Qual conta você deseja fazer? soma\n",
            "A soma é:  20\n"
          ]
        }
      ]
    }
  ]
}